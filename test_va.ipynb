{
 "cells": [
  {
   "cell_type": "code",
   "execution_count": 1,
   "id": "37dad02c",
   "metadata": {},
   "outputs": [
    {
     "name": "stderr",
     "output_type": "stream",
     "text": [
      "C:\\Users\\Rahatara\\anaconda3\\lib\\site-packages\\numpy\\_distributor_init.py:30: UserWarning: loaded more than 1 DLL from .libs:\n",
      "C:\\Users\\Rahatara\\anaconda3\\lib\\site-packages\\numpy\\.libs\\libopenblas.EL2C6PLE4ZYW3ECEVIV3OXXGRN2NRFM2.gfortran-win_amd64.dll\n",
      "C:\\Users\\Rahatara\\anaconda3\\lib\\site-packages\\numpy\\.libs\\libopenblas.WCDJNK7YVMPZQ2ME2ZZHJJRJ3JIKNDB7.gfortran-win_amd64.dll\n",
      "  warnings.warn(\"loaded more than 1 DLL from .libs:\"\n"
     ]
    }
   ],
   "source": [
    "#import libraries\n",
    "import speech_recognition as sr #for performing speech recognition\n",
    "import pyttsx3 #to support Text to Speech (TTS) synthesis\n",
    "import pywhatkit#to play a video on youtube. was mainly built for WhatsApp.\n",
    "import datetime #to use and manipulate dates and times\n",
    "from pytz import country_timezones, timezone\n",
    "import wikipedia #to access and parse data from Wikipedia.\n",
    "import pyjokes # to create random jokes \n",
    "import random\n",
    "from pytz import country_timezones, timezone\n",
    "from datetime import datetime\n",
    "import re"
   ]
  },
  {
   "cell_type": "code",
   "execution_count": 2,
   "id": "e4ec2dc9",
   "metadata": {},
   "outputs": [],
   "source": [
    "listener = sr.Recognizer()\n",
    "listener.energy_threshold = 900\n",
    "engine = pyttsx3.init()\n"
   ]
  },
  {
   "cell_type": "code",
   "execution_count": 3,
   "id": "c4fb68b3",
   "metadata": {},
   "outputs": [],
   "source": [
    "voices = engine.getProperty('voices')\n",
    "engine.setProperty('voice', voices[1].id)\n",
    "rate = engine.getProperty('rate')\n",
    "engine.setProperty('rate', rate+5)\n",
    "greetings = [\"Hello\", \"Hi\", \"Yes please\", \"Hmm\"]"
   ]
  },
  {
   "cell_type": "code",
   "execution_count": 4,
   "id": "57253e95",
   "metadata": {},
   "outputs": [],
   "source": [
    "#function to talk\n",
    "def talk(audio):\n",
    "    engine.say(audio)\n",
    "    engine.runAndWait()"
   ]
  },
  {
   "cell_type": "code",
   "execution_count": 5,
   "id": "de20070a",
   "metadata": {},
   "outputs": [],
   "source": [
    "def greeting():\n",
    "    talk(random.choice(greetings))"
   ]
  },
  {
   "cell_type": "code",
   "execution_count": 6,
   "id": "6847ea40",
   "metadata": {},
   "outputs": [],
   "source": [
    "def take_command():\n",
    "    with sr.Microphone() as source:\n",
    "       print('listening...')\n",
    "       voice = listener.listen(source)\n",
    "    command=\" \"\n",
    "    try:\n",
    "        command = listener.recognize_google(voice)\n",
    "        print('You said', command)\n",
    "        command = command.lower()\n",
    "    except LookupError:\n",
    "      pass\n",
    "      talk(\"Sorry Can you please try again\")\n",
    "    return command"
   ]
  },
  {
   "cell_type": "code",
   "execution_count": 7,
   "id": "e92fec32",
   "metadata": {},
   "outputs": [],
   "source": [
    "def awake_word_detection(command):\n",
    "    va_status = ''\n",
    "    if 'lisa' in command:\n",
    "        va_status = True\n",
    "    else:\n",
    "        va_status = False\n",
    "        talk(\"Please say hey Lisa\")\n",
    "    return va_status"
   ]
  },
  {
   "cell_type": "code",
   "execution_count": 8,
   "id": "9dd71a7a",
   "metadata": {},
   "outputs": [],
   "source": [
    "def find_city(query):\n",
    "    for country, cities in country_timezones.items():\n",
    "        for city in cities:\n",
    "            if query in city:\n",
    "                yield timezone(city)\n"
   ]
  },
  {
   "cell_type": "code",
   "execution_count": 9,
   "id": "21cce6c3",
   "metadata": {},
   "outputs": [],
   "source": [
    "#def intent_tztime(query):\n",
    "  #for tz in find_city(query):\n",
    "     #print(tz)\n",
    "     #time = str(datetime.now(tz).strftime('%I:%M %p'))\n",
    "     #print('Current time is ' + time)\n",
    "     #break"
   ]
  },
  {
   "cell_type": "code",
   "execution_count": 10,
   "id": "0fcb1e61",
   "metadata": {},
   "outputs": [],
   "source": [
    "#city_list = [\"Aberdeen\", \"Abilene\", \"Akron\", \"Albany\", \"Albuquerque\", \"Alexandria\", \"Allentown\", \"Amarillo\", \"Anaheim\", \"Anchorage\", \"Ann Arbor\", \"Antioch\", \"Apple Valley\", \"Appleton\", \"Arlington\", \"Arvada\", \"Asheville\", \"Athens\", \"Atlanta\", \"Atlantic City\", \"Augusta\", \"Aurora\", \"Austin\", \"Bakersfield\", \"Baltimore\", \"Barnstable\", \"Baton Rouge\", \"Beaumont\", \"Bel Air\", \"Bellevue\", \"Berkeley\", \"Bethlehem\", \"Billings\", \"Birmingham\", \"Bloomington\", \"Boise\", \"Boise City\", \"Bonita Springs\", \"Boston\", \"Boulder\", \"Bradenton\", \"Bremerton\", \"Bridgeport\", \"Brighton\", \"Brownsville\", \"Bryan\", \"Buffalo\", \"Burbank\", \"Burlington\", \"Cambridge\", \"Canton\", \"Cape Coral\", \"Carrollton\", \"Cary\", \"Cathedral City\", \"Cedar Rapids\", \"Champaign\", \"Chandler\", \"Charleston\", \"Charlotte\", \"Chattanooga\", \"Chesapeake\", \"Chicago\", \"Chula Vista\", \"Cincinnati\", \"Clarke County\", \"Clarksville\", \"Clearwater\", \"Cleveland\", \"College Station\", \"Colorado Springs\", \"Columbia\", \"Columbus\", \"Concord\", \"Coral Springs\", \"Corona\", \"Corpus Christi\", \"Costa Mesa\", \"Dallas\", \"Daly City\", \"Danbury\", \"Davenport\", \"Davidson County\", \"Dayton\", \"Daytona Beach\", \"Deltona\", \"Denton\", \"Denver\", \"Des Moines\", \"Detroit\", \"Downey\", \"Duluth\", \"Durham\", \"El Monte\", \"El Paso\", \"Elizabeth\", \"Elk Grove\", \"Elkhart\", \"Erie\", \"Escondido\", \"Eugene\", \"Evansville\", \"Fairfield\", \"Fargo\", \"Fayetteville\", \"Fitchburg\", \"Flint\", \"Fontana\", \"Fort Collins\", \"Fort Lauderdale\", \"Fort Smith\", \"Fort Walton Beach\", \"Fort Wayne\", \"Fort Worth\", \"Frederick\", \"Fremont\", \"Fresno\", \"Fullerton\", \"Gainesville\", \"Garden Grove\", \"Garland\", \"Gastonia\", \"Gilbert\", \"Glendale\", \"Grand Prairie\", \"Grand Rapids\", \"Grayslake\", \"Green Bay\", \"GreenBay\", \"Greensboro\", \"Greenville\", \"Gulfport-Biloxi\", \"Hagerstown\", \"Hampton\", \"Harlingen\", \"Harrisburg\", \"Hartford\", \"Havre de Grace\", \"Hayward\", \"Hemet\", \"Henderson\", \"Hesperia\", \"Hialeah\", \"Hickory\", \"High Point\", \"Hollywood\", \"Honolulu\", \"Houma\", \"Houston\", \"Howell\", \"Huntington\", \"Huntington Beach\", \"Huntsville\", \"Independence\", \"Indianapolis\", \"Inglewood\", \"Irvine\", \"Irving\", \"Jackson\", \"Jacksonville\", \"Jefferson\", \"Jersey City\", \"Johnson City\", \"Joliet\", \"Kailua\", \"Kalamazoo\", \"Kaneohe\", \"Kansas City\", \"Kennewick\", \"Kenosha\", \"Killeen\", \"Kissimmee\", \"Knoxville\", \"Lacey\", \"Lafayette\", \"Lake Charles\", \"Lakeland\", \"Lakewood\", \"Lancaster\", \"Lansing\", \"Laredo\", \"Las Cruces\", \"Las Vegas\", \"Layton\", \"Leominster\", \"Lewisville\", \"Lexington\", \"Lincoln\", \"Little Rock\", \"Long Beach\", \"Lorain\", \"Los Angeles\", \"Louisville\", \"Lowell\", \"Lubbock\", \"Macon\", \"Madison\", \"Manchester\", \"Marina\", \"Marysville\", \"McAllen\", \"McHenry\", \"Medford\", \"Melbourne\", \"Memphis\", \"Merced\", \"Mesa\", \"Mesquite\", \"Miami\", \"Milwaukee\", \"Minneapolis\", \"Miramar\", \"Mission Viejo\", \"Mobile\", \"Modesto\", \"Monroe\", \"Monterey\", \"Montgomery\", \"Moreno Valley\", \"Murfreesboro\", \"Murrieta\", \"Muskegon\", \"Myrtle Beach\", \"Naperville\", \"Naples\", \"Nashua\", \"Nashville\", \"New Bedford\", \"New Haven\", \"New London\", \"New Orleans\", \"New York\", \"New York City\", \"Newark\", \"Newburgh\", \"Newport News\", \"Norfolk\", \"Normal\", \"Norman\", \"North Charleston\", \"North Las Vegas\", \"North Port\", \"Norwalk\", \"Norwich\", \"Oakland\", \"Ocala\", \"Oceanside\", \"Odessa\", \"Ogden\", \"Oklahoma City\", \"Olathe\", \"Olympia\", \"Omaha\", \"Ontario\", \"Orange\", \"Orem\", \"Orlando\", \"Overland Park\", \"Oxnard\", \"Palm Bay\", \"Palm Springs\", \"Palmdale\", \"Panama City\", \"Pasadena\", \"Paterson\", \"Pembroke Pines\", \"Pensacola\", \"Peoria\", \"Philadelphia\", \"Phoenix\", \"Pittsburgh\", \"Plano\", \"Pomona\", \"Pompano Beach\", \"Port Arthur\", \"Port Orange\", \"Port Saint Lucie\", \"Port St. Lucie\", \"Portland\", \"Portsmouth\", \"Poughkeepsie\", \"Providence\", \"Provo\", \"Pueblo\", \"Punta Gorda\", \"Racine\", \"Raleigh\", \"Rancho Cucamonga\", \"Reading\", \"Redding\", \"Reno\", \"Richland\", \"Richmond\", \"Richmond County\", \"Riverside\", \"Roanoke\", \"Rochester\", \"Rockford\", \"Roseville\", \"Round Lake Beach\", \"Sacramento\", \"Saginaw\", \"Saint Louis\", \"Saint Paul\", \"Saint Petersburg\", \"Salem\", \"Salinas\", \"Salt Lake City\", \"San Antonio\", \"San Bernardino\", \"San Buenaventura\", \"San Diego\", \"San Francisco\", \"San Jose\", \"Santa Ana\", \"Santa Barbara\", \"Santa Clara\", \"Santa Clarita\", \"Santa Cruz\", \"Santa Maria\", \"Santa Rosa\", \"Sarasota\", \"Savannah\", \"Scottsdale\", \"Scranton\", \"Seaside\", \"Seattle\", \"Sebastian\", \"Shreveport\", \"Simi Valley\", \"Sioux City\", \"Sioux Falls\", \"South Bend\", \"South Lyon\", \"Spartanburg\", \"Spokane\", \"Springdale\", \"Springfield\", \"St. Louis\", \"St. Paul\", \"St. Petersburg\", \"Stamford\", \"Sterling Heights\", \"Stockton\", \"Sunnyvale\", \"Syracuse\", \"Tacoma\", \"Tallahassee\", \"Tampa\", \"Temecula\", \"Tempe\", \"Thornton\", \"Thousand Oaks\", \"Toledo\", \"Topeka\", \"Torrance\", \"Trenton\", \"Tucson\", \"Tulsa\", \"Tuscaloosa\", \"Tyler\", \"Utica\", \"Vallejo\", \"Vancouver\", \"Vero Beach\", \"Victorville\", \"Virginia Beach\", \"Visalia\", \"Waco\", \"Warren\", \"Washington\", \"Waterbury\", \"Waterloo\", \"West Covina\", \"West Valley City\", \"Westminster\", \"Wichita\", \"Wilmington\", \"Winston\", \"Winter Haven\", \"Worcester\", \"Yakima\", \"Yonkers\", \"York\", \"Youngstown\"]"
   ]
  },
  {
   "cell_type": "code",
   "execution_count": 11,
   "id": "2e802180",
   "metadata": {},
   "outputs": [],
   "source": [
    "city_list = [\"zurich\", \"montreal\", \"dhaka\", \"new york\", \"abu dhabi\", \"toronto\", \"ottawa\"]\n"
   ]
  },
  {
   "cell_type": "code",
   "execution_count": 12,
   "id": "02323308",
   "metadata": {},
   "outputs": [],
   "source": [
    "def intent_informtime():\n",
    "  #if 'time' in audio:\n",
    "    time = datetime.now().strftime('%I:%M %p')\n",
    "    talk('Current time is ' + time)"
   ]
  },
  {
   "cell_type": "code",
   "execution_count": 13,
   "id": "452cd07c",
   "metadata": {},
   "outputs": [],
   "source": [
    "def intent_playyoutubevideo(command):\n",
    "  #if 'time' in audio:\n",
    "  song = command.replace('play', '')\n",
    "  talk('playing ' + song)\n",
    "  pywhatkit.playonyt(song)"
   ]
  },
  {
   "cell_type": "code",
   "execution_count": 14,
   "id": "293ed8e1",
   "metadata": {},
   "outputs": [
    {
     "name": "stdout",
     "output_type": "stream",
     "text": [
      "The original string : tell me about mark juckerburg\n",
      "The split string : about\n",
      "String before the substring occurrence :  mark juckerburg\n"
     ]
    }
   ],
   "source": [
    "# initializing string\n",
    "test_string = \"tell me about mark juckerburg\"\n",
    "\n",
    " \n",
    "# initializing split word\n",
    "spl_word = 'about'\n",
    " \n",
    "# printing original string\n",
    "print(\"The original string : \" + str(test_string))\n",
    " \n",
    "# printing split string\n",
    "print(\"The split string : \" + str(spl_word))\n",
    " \n",
    "# using partition()\n",
    "# String till Substring\n",
    "res = test_string.partition(spl_word)[-1]\n",
    " \n",
    "# print result\n",
    "print(\"String before the substring occurrence : \" + res)"
   ]
  },
  {
   "cell_type": "code",
   "execution_count": 15,
   "id": "cd4cc488",
   "metadata": {},
   "outputs": [],
   "source": [
    "def know_info(command,phrase):\n",
    "  try:\n",
    "        person = command.partition(phrase)[-1]\n",
    "        print('searching for...', person)\n",
    "        info = wikipedia.summary(person, 1)\n",
    "        print(info)\n",
    "        talk('according to wikipedia'+ info)\n",
    "  except Exception as e:\n",
    "        print(e)\n",
    "        talk('Really sorry! I could not find it')\n",
    "        "
   ]
  },
  {
   "cell_type": "code",
   "execution_count": 16,
   "id": "2b4a1733",
   "metadata": {},
   "outputs": [],
   "source": [
    "#command = \"how to do programming\"\n",
    "#phrase= \"how to\"\n",
    "#know_info(command, phrase)\n",
    "\n"
   ]
  },
  {
   "cell_type": "code",
   "execution_count": 17,
   "id": "0121619b",
   "metadata": {},
   "outputs": [],
   "source": [
    "def get_joke():\n",
    "    talk(pyjokes.get_joke())"
   ]
  },
  {
   "cell_type": "code",
   "execution_count": 18,
   "id": "b00f686f",
   "metadata": {},
   "outputs": [],
   "source": [
    "def intent_timezone_time(s):\n",
    "    words_re = re.compile(\"|\".join(city_list))\n",
    "    if words_re.search(s):\n",
    "       location = words_re.findall(s)[0].capitalize()\n",
    "       print(location)\n",
    "       for tz in find_city(location):\n",
    "          print(tz)\n",
    "          time = str(datetime.now(tz).strftime('%I:%M %p'))\n",
    "          talk('In'+location+'Current time is ' + time)\n",
    "          break"
   ]
  },
  {
   "cell_type": "code",
   "execution_count": 19,
   "id": "fbaa0c02",
   "metadata": {},
   "outputs": [
    {
     "name": "stdout",
     "output_type": "stream",
     "text": [
      "Toronto\n",
      "America/Toronto\n"
     ]
    }
   ],
   "source": [
    "command = 'what time is it in toronto'\n",
    "intent_timezone_time(command)"
   ]
  },
  {
   "cell_type": "code",
   "execution_count": 20,
   "id": "16edaa2e",
   "metadata": {},
   "outputs": [
    {
     "ename": "IndentationError",
     "evalue": "unexpected indent (<ipython-input-20-725a5dbaa1ed>, line 6)",
     "output_type": "error",
     "traceback": [
      "\u001b[1;36m  File \u001b[1;32m\"<ipython-input-20-725a5dbaa1ed>\"\u001b[1;36m, line \u001b[1;32m6\u001b[0m\n\u001b[1;33m    print(command)\u001b[0m\n\u001b[1;37m    ^\u001b[0m\n\u001b[1;31mIndentationError\u001b[0m\u001b[1;31m:\u001b[0m unexpected indent\n"
     ]
    }
   ],
   "source": [
    "#command = take_command()\n",
    "#status = awake_word_detection(command)\n",
    "#if (status == True):\n",
    "   #greeting()\n",
    "   #command = take_command()\n",
    "   print(command)\n",
    "   #if 'time' in command and 'in' in command:\n",
    "       #intent_timezone_time(command)    \n",
    "   #elif 'time' in command:\n",
    "       intent_informtime()\n",
    "   #elif 'joke' in command:\n",
    "        get_joke()\n",
    "   #elif 'who is' in command:\n",
    "      # phrase = 'who is'\n",
    "   #    know_info(command, phrase)\n",
    "   #elif 'what is' in command:\n",
    "       #phrase = 'what is'\n",
    "      # know_info(command, phrase)\n",
    "   #elif 'about' in command:\n",
    "      # phrase = 'about'\n",
    "      # know_info(command, phrase)\n",
    "   #elif 'how to' in command:\n",
    "     #  phrase = 'how to'\n",
    "      # know_info(command, phrase) \n",
    "   #else:\n",
    "    # talk(\"Sorry I did not understand, Can you please say agian?\")\n",
    "     \n",
    "   \n",
    "    \n",
    "  \n",
    "        \n",
    "        "
   ]
  },
  {
   "cell_type": "code",
   "execution_count": 21,
   "id": "d17a9658",
   "metadata": {},
   "outputs": [],
   "source": [
    "def run_lisa():\n",
    "    command = take_command()\n",
    "    status = awake_word_detection(command)\n",
    "    if (status == True):\n",
    "         greeting()\n",
    "         command = take_command()\n",
    "         print(command)\n",
    "         if 'time' in command:\n",
    "                if 'in' in command:\n",
    "                   intent_timezone_time(command)    \n",
    "                else:\n",
    "                   intent_informtime()\n",
    "         elif 'joke' in command:\n",
    "               get_joke()\n",
    "         elif 'who is' in command:\n",
    "               phrase = 'who is'\n",
    "               know_info(command, phrase)\n",
    "         elif 'what is' in command:\n",
    "              phrase = 'what is'\n",
    "              know_info(command, phrase)\n",
    "         elif 'about' in command:\n",
    "             phrase = 'about'\n",
    "             know_info(command, phrase)\n",
    "         elif 'how to' in command:\n",
    "             phrase = 'how to'\n",
    "             know_info(command, phrase) \n",
    "         elif 'play' in command:\n",
    "             intent_playyoutubevideo(command)\n",
    "         else:\n",
    "             talk(\"Sorry I still don't know about it\")"
   ]
  },
  {
   "cell_type": "code",
   "execution_count": 24,
   "id": "a9cb8cff",
   "metadata": {},
   "outputs": [
    {
     "name": "stdout",
     "output_type": "stream",
     "text": [
      "listening...\n",
      "You said hello Lisa\n",
      "listening...\n",
      "You said how to learn salsa\n",
      "how to learn salsa\n",
      "searching for...  learn salsa\n",
      "Salsa is a Latin dance associated with the music genre of the same name which was first popularized in the United States in the 1960s in New York City.\n"
     ]
    }
   ],
   "source": [
    "try:\n",
    "    run_lisa()\n",
    "except:\n",
    "    talk(\"Really sorry dear, I could not hear you well.Please try again \")\n"
   ]
  },
  {
   "cell_type": "code",
   "execution_count": null,
   "id": "28bef6a0",
   "metadata": {},
   "outputs": [],
   "source": []
  }
 ],
 "metadata": {
  "kernelspec": {
   "display_name": "Python 3",
   "language": "python",
   "name": "python3"
  },
  "language_info": {
   "codemirror_mode": {
    "name": "ipython",
    "version": 3
   },
   "file_extension": ".py",
   "mimetype": "text/x-python",
   "name": "python",
   "nbconvert_exporter": "python",
   "pygments_lexer": "ipython3",
   "version": "3.8.8"
  }
 },
 "nbformat": 4,
 "nbformat_minor": 5
}
